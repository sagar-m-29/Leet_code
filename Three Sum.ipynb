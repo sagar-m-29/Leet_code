{
 "cells": [
  {
   "cell_type": "markdown",
   "metadata": {},
   "source": [
    "# Two Sum"
   ]
  },
  {
   "cell_type": "code",
   "execution_count": 60,
   "metadata": {},
   "outputs": [
    {
     "data": {
      "text/plain": [
       "[[3, 3], [-3, 9], [2, 4], [2, 4]]"
      ]
     },
     "execution_count": 60,
     "metadata": {},
     "output_type": "execute_result"
    }
   ],
   "source": [
    "def twoSum(nums, target):\n",
    "    \n",
    "    empty_array = []\n",
    "\n",
    "    for i in range(len(nums)):\n",
    "        for j in range(i+1,(len(nums))):\n",
    "            if nums[i] == target - nums[j]:\n",
    "                empty_array.append([nums[i],nums[j]])\n",
    "\n",
    "## CANNOT FIGURE OUT HOW TO REMOVE DUPLICATES, obviously doesnt work as we are out of loop of i and j AND we want to check for duplicates, after empty array has been constructed.\n",
    "## WON'T WORK in loop also as empty_array is still being constructed.\n",
    "    #for k in empty_array:\n",
    "        #if nums[i] == empty_array[k][1] or nums[i] == empty_array[k][0] or nums[j] == empty_array[k][0] or nums[j] == empty_array[k][1]:\n",
    "            #empty_array.pop[k]\n",
    "    \n",
    "    return empty_array\n",
    "\n",
    "nums = [3,-3,2,4,5,9,3,4]\n",
    "target = 6\n",
    "\n",
    "twoSum(nums,target)"
   ]
  },
  {
   "cell_type": "markdown",
   "metadata": {},
   "source": [
    "# Three Sum"
   ]
  },
  {
   "cell_type": "code",
   "execution_count": 70,
   "metadata": {},
   "outputs": [
    {
     "data": {
      "text/plain": [
       "[[0, [[1, -1]]], [2, [[2, -4]]]]"
      ]
     },
     "execution_count": 70,
     "metadata": {},
     "output_type": "execute_result"
    }
   ],
   "source": [
    "nums_v2 = [-1,0,1,2,-1,-4]\n",
    "\n",
    "empty_array = []\n",
    "\n",
    "def threeSum(nums):\n",
    "\n",
    "    for i in range(len(nums)):\n",
    "        pairs = twoSum(nums[i+1:], -i)\n",
    "\n",
    "        for pair in pairs:\n",
    "            if len(pair) == 2:\n",
    "                empty_array.append([i,twoSum(nums[i+1:], -i)])\n",
    "    \n",
    "    return empty_array\n",
    "\n",
    "threeSum(nums_v2)"
   ]
  }
 ],
 "metadata": {
  "kernelspec": {
   "display_name": "Python 3",
   "language": "python",
   "name": "python3"
  },
  "language_info": {
   "codemirror_mode": {
    "name": "ipython",
    "version": 3
   },
   "file_extension": ".py",
   "mimetype": "text/x-python",
   "name": "python",
   "nbconvert_exporter": "python",
   "pygments_lexer": "ipython3",
   "version": "3.7.3"
  }
 },
 "nbformat": 4,
 "nbformat_minor": 2
}
